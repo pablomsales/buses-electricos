{
 "cells": [
  {
   "cell_type": "code",
   "execution_count": 60,
   "metadata": {},
   "outputs": [],
   "source": [
    "import os\n",
    "\n",
    "import pandas as pd\n",
    "\n",
    "filename = os.path.join(\"..\", \"..\", \"..\", \"outputs\", \"linea_d2_algoritmo\", \"output.csv\")\n",
    "df = pd.read_csv(filename, delimiter=\";\")"
   ]
  },
  {
   "cell_type": "code",
   "execution_count": 61,
   "metadata": {},
   "outputs": [
    {
     "data": {
      "text/html": [
       "<div>\n",
       "<style scoped>\n",
       "    .dataframe tbody tr th:only-of-type {\n",
       "        vertical-align: middle;\n",
       "    }\n",
       "\n",
       "    .dataframe tbody tr th {\n",
       "        vertical-align: top;\n",
       "    }\n",
       "\n",
       "    .dataframe thead th {\n",
       "        text-align: right;\n",
       "    }\n",
       "</style>\n",
       "<table border=\"1\" class=\"dataframe\">\n",
       "  <thead>\n",
       "    <tr style=\"text-align: right;\">\n",
       "      <th></th>\n",
       "      <th>start</th>\n",
       "      <th>end</th>\n",
       "      <th>start_time</th>\n",
       "      <th>end_time</th>\n",
       "      <th>start_speed</th>\n",
       "      <th>end_speed</th>\n",
       "      <th>Wh</th>\n",
       "      <th>Ah</th>\n",
       "      <th>L/h</th>\n",
       "      <th>L/km</th>\n",
       "      <th>NOx</th>\n",
       "      <th>CO</th>\n",
       "      <th>HC</th>\n",
       "      <th>PM</th>\n",
       "      <th>CO2</th>\n",
       "      <th>battery_degradation</th>\n",
       "    </tr>\n",
       "  </thead>\n",
       "  <tbody>\n",
       "    <tr>\n",
       "      <th>0</th>\n",
       "      <td>(43.391264, -5.801079, 173.2862721503871)</td>\n",
       "      <td>(43.391468, -5.801223, 174.6766786202788)</td>\n",
       "      <td>0.000000</td>\n",
       "      <td>25.019632</td>\n",
       "      <td>0.186897</td>\n",
       "      <td>4.291832</td>\n",
       "      <td>153.453744</td>\n",
       "      <td>0.383634</td>\n",
       "      <td>0.0</td>\n",
       "      <td>0.0</td>\n",
       "      <td>0.001803</td>\n",
       "      <td>0.006762</td>\n",
       "      <td>0.000586</td>\n",
       "      <td>0.000045</td>\n",
       "      <td>0.0</td>\n",
       "      <td>1.043903e-07</td>\n",
       "    </tr>\n",
       "    <tr>\n",
       "      <th>1</th>\n",
       "      <td>(43.391468, -5.801223, 174.6766786202788)</td>\n",
       "      <td>(43.391768, -5.801411, 174.9100775970146)</td>\n",
       "      <td>25.019632</td>\n",
       "      <td>32.018873</td>\n",
       "      <td>4.291832</td>\n",
       "      <td>3.660106</td>\n",
       "      <td>42.928678</td>\n",
       "      <td>0.107322</td>\n",
       "      <td>0.0</td>\n",
       "      <td>0.0</td>\n",
       "      <td>0.000859</td>\n",
       "      <td>0.003220</td>\n",
       "      <td>0.000279</td>\n",
       "      <td>0.000021</td>\n",
       "      <td>0.0</td>\n",
       "      <td>2.920318e-08</td>\n",
       "    </tr>\n",
       "    <tr>\n",
       "      <th>2</th>\n",
       "      <td>(43.391768, -5.801411, 174.9100775970146)</td>\n",
       "      <td>(43.392097, -5.801549, 175.4675523051992)</td>\n",
       "      <td>32.018873</td>\n",
       "      <td>40.018409</td>\n",
       "      <td>3.660106</td>\n",
       "      <td>4.767924</td>\n",
       "      <td>49.063820</td>\n",
       "      <td>0.122660</td>\n",
       "      <td>0.0</td>\n",
       "      <td>0.0</td>\n",
       "      <td>0.004072</td>\n",
       "      <td>0.015271</td>\n",
       "      <td>0.001324</td>\n",
       "      <td>0.000102</td>\n",
       "      <td>0.0</td>\n",
       "      <td>3.337675e-08</td>\n",
       "    </tr>\n",
       "    <tr>\n",
       "      <th>3</th>\n",
       "      <td>(43.392097, -5.801549, 175.4675523051992)</td>\n",
       "      <td>(43.39219, -5.801838, 174.6787773203105)</td>\n",
       "      <td>40.018409</td>\n",
       "      <td>46.018968</td>\n",
       "      <td>4.767924</td>\n",
       "      <td>4.940056</td>\n",
       "      <td>-2225.535076</td>\n",
       "      <td>-5.563838</td>\n",
       "      <td>0.0</td>\n",
       "      <td>0.0</td>\n",
       "      <td>0.000000</td>\n",
       "      <td>0.000000</td>\n",
       "      <td>0.000000</td>\n",
       "      <td>0.000000</td>\n",
       "      <td>0.0</td>\n",
       "      <td>0.000000e+00</td>\n",
       "    </tr>\n",
       "    <tr>\n",
       "      <th>4</th>\n",
       "      <td>(43.39219, -5.801838, 174.6787773203105)</td>\n",
       "      <td>(43.392091, -5.802117, 174.6218505902216)</td>\n",
       "      <td>46.018968</td>\n",
       "      <td>50.016893</td>\n",
       "      <td>4.940056</td>\n",
       "      <td>6.779726</td>\n",
       "      <td>24.520606</td>\n",
       "      <td>0.061302</td>\n",
       "      <td>0.0</td>\n",
       "      <td>0.0</td>\n",
       "      <td>0.007596</td>\n",
       "      <td>0.028485</td>\n",
       "      <td>0.002469</td>\n",
       "      <td>0.000190</td>\n",
       "      <td>0.0</td>\n",
       "      <td>1.668069e-08</td>\n",
       "    </tr>\n",
       "  </tbody>\n",
       "</table>\n",
       "</div>"
      ],
      "text/plain": [
       "                                       start  \\\n",
       "0  (43.391264, -5.801079, 173.2862721503871)   \n",
       "1  (43.391468, -5.801223, 174.6766786202788)   \n",
       "2  (43.391768, -5.801411, 174.9100775970146)   \n",
       "3  (43.392097, -5.801549, 175.4675523051992)   \n",
       "4   (43.39219, -5.801838, 174.6787773203105)   \n",
       "\n",
       "                                         end  start_time   end_time  \\\n",
       "0  (43.391468, -5.801223, 174.6766786202788)    0.000000  25.019632   \n",
       "1  (43.391768, -5.801411, 174.9100775970146)   25.019632  32.018873   \n",
       "2  (43.392097, -5.801549, 175.4675523051992)   32.018873  40.018409   \n",
       "3   (43.39219, -5.801838, 174.6787773203105)   40.018409  46.018968   \n",
       "4  (43.392091, -5.802117, 174.6218505902216)   46.018968  50.016893   \n",
       "\n",
       "   start_speed  end_speed           Wh        Ah  L/h  L/km       NOx  \\\n",
       "0     0.186897   4.291832   153.453744  0.383634  0.0   0.0  0.001803   \n",
       "1     4.291832   3.660106    42.928678  0.107322  0.0   0.0  0.000859   \n",
       "2     3.660106   4.767924    49.063820  0.122660  0.0   0.0  0.004072   \n",
       "3     4.767924   4.940056 -2225.535076 -5.563838  0.0   0.0  0.000000   \n",
       "4     4.940056   6.779726    24.520606  0.061302  0.0   0.0  0.007596   \n",
       "\n",
       "         CO        HC        PM  CO2  battery_degradation  \n",
       "0  0.006762  0.000586  0.000045  0.0         1.043903e-07  \n",
       "1  0.003220  0.000279  0.000021  0.0         2.920318e-08  \n",
       "2  0.015271  0.001324  0.000102  0.0         3.337675e-08  \n",
       "3  0.000000  0.000000  0.000000  0.0         0.000000e+00  \n",
       "4  0.028485  0.002469  0.000190  0.0         1.668069e-08  "
      ]
     },
     "execution_count": 61,
     "metadata": {},
     "output_type": "execute_result"
    }
   ],
   "source": [
    "df.head()"
   ]
  },
  {
   "cell_type": "code",
   "execution_count": 62,
   "metadata": {},
   "outputs": [],
   "source": [
    "# Calcular la diferencia de tiempo en segundos\n",
    "df[\"time_s\"] = df[\"end_time\"] - df[\"start_time\"]"
   ]
  },
  {
   "cell_type": "markdown",
   "metadata": {},
   "source": [
    "## Emisiones"
   ]
  },
  {
   "cell_type": "code",
   "execution_count": 63,
   "metadata": {},
   "outputs": [],
   "source": [
    "def calculate_total_emission(df, contaminant_column):\n",
    "    # Filtrar las columnas necesarias\n",
    "    df_filtered = df[[\"time_s\", contaminant_column]].copy()\n",
    "\n",
    "    # Multiplicar la duración por el contaminante\n",
    "    df_filtered[\"emission_sect\"] = (\n",
    "        df_filtered[\"time_s\"] * df_filtered[contaminant_column]\n",
    "    )\n",
    "\n",
    "    # Calcular el total\n",
    "    total_emission = df_filtered[\"emission_sect\"].sum()\n",
    "\n",
    "    return total_emission"
   ]
  },
  {
   "cell_type": "markdown",
   "metadata": {},
   "source": [
    "### NOx"
   ]
  },
  {
   "cell_type": "code",
   "execution_count": 64,
   "metadata": {},
   "outputs": [
    {
     "data": {
      "text/plain": [
       "count    327.000000\n",
       "mean       0.006675\n",
       "std        0.009391\n",
       "min        0.000000\n",
       "25%        0.000000\n",
       "50%        0.002828\n",
       "75%        0.010043\n",
       "max        0.079397\n",
       "Name: NOx, dtype: float64"
      ]
     },
     "execution_count": 64,
     "metadata": {},
     "output_type": "execute_result"
    }
   ],
   "source": [
    "df[\"NOx\"].describe()"
   ]
  },
  {
   "cell_type": "code",
   "execution_count": 65,
   "metadata": {},
   "outputs": [
    {
     "name": "stdout",
     "output_type": "stream",
     "text": [
      "9.185250430080357\n"
     ]
    }
   ],
   "source": [
    "total_NOx = calculate_total_emission(df, \"NOx\")\n",
    "print(total_NOx)"
   ]
  },
  {
   "cell_type": "markdown",
   "metadata": {},
   "source": [
    "### CO"
   ]
  },
  {
   "cell_type": "code",
   "execution_count": 66,
   "metadata": {},
   "outputs": [
    {
     "data": {
      "text/plain": [
       "count    327.000000\n",
       "mean       0.025031\n",
       "std        0.035215\n",
       "min        0.000000\n",
       "25%        0.000000\n",
       "50%        0.010606\n",
       "75%        0.037661\n",
       "max        0.297739\n",
       "Name: CO, dtype: float64"
      ]
     },
     "execution_count": 66,
     "metadata": {},
     "output_type": "execute_result"
    }
   ],
   "source": [
    "df[\"CO\"].describe()"
   ]
  },
  {
   "cell_type": "code",
   "execution_count": 67,
   "metadata": {},
   "outputs": [
    {
     "name": "stdout",
     "output_type": "stream",
     "text": [
      "34.444689112801555\n"
     ]
    }
   ],
   "source": [
    "total_CO = calculate_total_emission(df, \"CO\")\n",
    "print(total_CO)"
   ]
  },
  {
   "cell_type": "markdown",
   "metadata": {},
   "source": [
    "### HC"
   ]
  },
  {
   "cell_type": "code",
   "execution_count": 68,
   "metadata": {},
   "outputs": [
    {
     "data": {
      "text/plain": [
       "count    327.000000\n",
       "mean       0.002169\n",
       "std        0.003052\n",
       "min        0.000000\n",
       "25%        0.000000\n",
       "50%        0.000919\n",
       "75%        0.003264\n",
       "max        0.025804\n",
       "Name: HC, dtype: float64"
      ]
     },
     "execution_count": 68,
     "metadata": {},
     "output_type": "execute_result"
    }
   ],
   "source": [
    "df[\"HC\"].describe()"
   ]
  },
  {
   "cell_type": "code",
   "execution_count": 69,
   "metadata": {},
   "outputs": [
    {
     "name": "stdout",
     "output_type": "stream",
     "text": [
      "2.9852063897760726\n"
     ]
    }
   ],
   "source": [
    "total_HC = calculate_total_emission(df, \"HC\")\n",
    "print(total_HC)"
   ]
  },
  {
   "cell_type": "markdown",
   "metadata": {},
   "source": [
    "### PM"
   ]
  },
  {
   "cell_type": "code",
   "execution_count": 70,
   "metadata": {},
   "outputs": [
    {
     "data": {
      "text/plain": [
       "count    327.000000\n",
       "mean       0.000167\n",
       "std        0.000235\n",
       "min        0.000000\n",
       "25%        0.000000\n",
       "50%        0.000071\n",
       "75%        0.000251\n",
       "max        0.001985\n",
       "Name: PM, dtype: float64"
      ]
     },
     "execution_count": 70,
     "metadata": {},
     "output_type": "execute_result"
    }
   ],
   "source": [
    "df[\"PM\"].describe()"
   ]
  },
  {
   "cell_type": "code",
   "execution_count": 71,
   "metadata": {},
   "outputs": [
    {
     "name": "stdout",
     "output_type": "stream",
     "text": [
      "0.2296312607519829\n"
     ]
    }
   ],
   "source": [
    "total_PM = calculate_total_emission(df, \"PM\")\n",
    "print(total_PM)"
   ]
  },
  {
   "cell_type": "markdown",
   "metadata": {},
   "source": [
    "### CO2"
   ]
  },
  {
   "cell_type": "code",
   "execution_count": 72,
   "metadata": {},
   "outputs": [
    {
     "data": {
      "text/plain": [
       "count    327.0\n",
       "mean       0.0\n",
       "std        0.0\n",
       "min        0.0\n",
       "25%        0.0\n",
       "50%        0.0\n",
       "75%        0.0\n",
       "max        0.0\n",
       "Name: CO2, dtype: float64"
      ]
     },
     "execution_count": 72,
     "metadata": {},
     "output_type": "execute_result"
    }
   ],
   "source": [
    "df[\"CO2\"].describe()"
   ]
  },
  {
   "cell_type": "code",
   "execution_count": 73,
   "metadata": {},
   "outputs": [
    {
     "name": "stdout",
     "output_type": "stream",
     "text": [
      "0.0\n"
     ]
    }
   ],
   "source": [
    "total_CO2 = calculate_total_emission(df, \"CO2\")\n",
    "print(total_CO2)"
   ]
  }
 ],
 "metadata": {
  "kernelspec": {
   "display_name": "bus",
   "language": "python",
   "name": "python3"
  },
  "language_info": {
   "codemirror_mode": {
    "name": "ipython",
    "version": 3
   },
   "file_extension": ".py",
   "mimetype": "text/x-python",
   "name": "python",
   "nbconvert_exporter": "python",
   "pygments_lexer": "ipython3",
   "version": "3.10.12"
  }
 },
 "nbformat": 4,
 "nbformat_minor": 2
}
